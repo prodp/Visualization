{
 "cells": [
  {
   "cell_type": "markdown",
   "metadata": {},
   "source": [
    "# Homework 4\n",
    "\n",
    "### CS328 — Numerical Methods for Visual Computing\n",
    "- - -\n",
    "\n",
    "**Out** on Friday 17.11, **due** on Friday 1.12.\n",
    "\n",
    "This notebook contains literate code, i.e. brief fragments of Python surrounded by descriptive text. Please use the same format when submitting your answers. Begin your response to each problem with a <tt>&nbsp;<b>## Solution</b>&nbsp;&nbsp;</tt> markdown cell. Since this exercise includes a number of supplementary discussions, questions are explicitly marked with a **TODO** marker.\n",
    "\n",
    "<br><div class=\"alert alert-warning\">\n",
    "Please keep in mind that homework assignments must be done individually.\n",
    "</div>"
   ]
  },
  {
   "cell_type": "markdown",
   "metadata": {},
   "source": [
    "# Installing additional prerequisites\n",
    "\n",
    "In this assignment, we will make use a library called **[bqplot](https://github.com/bloomberg/bqplot)** developed by Bloomberg, which enables fully interactive plots within the Jupyter notebook. By default, this library is not installed on the Anaconda Python distribution we're using in this course, hence you will need to install it first. To do so, open the console (``cmd.exe`` on Windows or the standard terminal on Linux or MacOS) and enter the following commands.\n",
    "\n",
    "```\n",
    "pip install bqplot\n",
    "jupyter nbextension enable --py --sys-prefix bqplot\n",
    "jupyter nbextension enable --py --sys-prefix widgetsnbextension\n",
    "```\n",
    "\n",
    "**However**, note that some systems like MacOS ship a with default version of Python that is very old and outdated. To ensure that the right versions of the ``pip`` and ``jupyter`` commands are executed, it's safer to first have to navigate to the directory where Anaconda was installed and then execute the commands there. The following screenshots show how to do this on the various supported platforms (note the ``./`` prefix on Linux and Mac OS).\n",
    "\n",
    "<a href=\"//rgl.s3.eu-central-1.amazonaws.com/media/uploads/wjakob/2016/12/05/bqplot.jpg\"><img width=\"1000\" src=\"//rgl.s3.eu-central-1.amazonaws.com/media/uploads/wjakob/2016/12/05/bqplot.jpg\"></a>\n",
    "\n",
    "Afterwards, you will have to **restart** Jupyter notebook for the change to become effective. You can enter and run the following commands in a new cell to check if bqplot was installed correctly—they should display a figure with a pie chart.\n",
    "\n",
    "```python\n",
    "import bqplot as bqp\n",
    "bqp.Figure(marks=[bqp.Pie(sizes=range(1, 6))], title='A pie chart!')\n",
    "```"
   ]
  },
  {
   "cell_type": "code",
   "execution_count": 1,
   "metadata": {},
   "outputs": [
    {
     "data": {
      "application/vnd.jupyter.widget-view+json": {
       "model_id": "9c8f55d66f3f4371a9ce4cb40d8b789b",
       "version_major": 2,
       "version_minor": 0
      },
      "text/html": [
       "<p>Failed to display Jupyter Widget of type <code>Figure</code>.</p>\n",
       "<p>\n",
       "  If you're reading this message in the Jupyter Notebook or JupyterLab Notebook, it may mean\n",
       "  that the widgets JavaScript is still loading. If this message persists, it\n",
       "  likely means that the widgets JavaScript library is either not installed or\n",
       "  not enabled. See the <a href=\"https://ipywidgets.readthedocs.io/en/stable/user_install.html\">Jupyter\n",
       "  Widgets Documentation</a> for setup instructions.\n",
       "</p>\n",
       "<p>\n",
       "  If you're reading this message in another frontend (for example, a static\n",
       "  rendering on GitHub or <a href=\"https://nbviewer.jupyter.org/\">NBViewer</a>),\n",
       "  it may mean that your frontend doesn't currently support widgets.\n",
       "</p>\n"
      ],
      "text/plain": [
       "Figure(fig_margin={'top': 60, 'bottom': 60, 'left': 60, 'right': 60}, layout=Layout(min_width='125px'), marks=[Pie(colors=['#1f77b4', '#ff7f0e', '#2ca02c', '#d62728', '#9467bd', '#8c564b', '#e377c2', '#7f7f7f', '#bcbd22', '#17becf'], interactions={'hover': 'tooltip'}, scales_metadata={'color': {'dimension': 'color'}}, sizes=array([1, 2, 3, 4, 5]), tooltip_style={'opacity': 0.9}, x=0.5, y=0.5)], scale_x=LinearScale(allow_padding=False, max=1.0, min=0.0), scale_y=LinearScale(allow_padding=False, max=1.0, min=0.0), title='A pie chart!')"
      ]
     },
     "metadata": {},
     "output_type": "display_data"
    }
   ],
   "source": [
    "import bqplot as bqp\n",
    "bqp.Figure(marks=[bqp.Pie(sizes=range(1, 6))], title='A pie chart!')"
   ]
  },
  {
   "cell_type": "markdown",
   "metadata": {},
   "source": [
    "# Prelude\n",
    "\n",
    "We begin by importing essential NumPy/SciPy/Matplotlib components that are needed to complete the exercises. The package ``scipy.optimize`` is new -- it is only used in the last portion of this homework (hacker points). The ``ipywidgets`` package is  used internally by some of the code snippets provided by us."
   ]
  },
  {
   "cell_type": "code",
   "execution_count": 2,
   "metadata": {
    "collapsed": true
   },
   "outputs": [],
   "source": [
    "import numpy as np\n",
    "import scipy.linalg as la\n",
    "\n",
    "# New: Optimization package\n",
    "import scipy.optimize as opt\n",
    "\n",
    "# bqplot plotting library\n",
    "import bqplot as bqp\n",
    "\n",
    "# Import graphical user interface components used below\n",
    "from ipywidgets import interact\n",
    "from ipywidgets import FloatSlider, VBox"
   ]
  },
  {
   "cell_type": "markdown",
   "metadata": {},
   "source": [
    "# Inverse Kinematics using Newton's method and the Pseudoinverse\n",
    "$$\n",
    "\\newcommand{\\vp}{\\mathbf{p}}\n",
    "\\newcommand{\\vx}{\\mathbf{x}}\n",
    "\\newcommand{\\vf}{\\mathbf{f}}\n",
    "\\newcommand{\\mA}{\\mathbf{A}}\n",
    "$$\n",
    "Lifelike computer-animated characters and animals are increasingly pervasive in today’s society:  they are now commonly encountered in games, advertisements, feature animation, and a variety of other fields. It’s interesting to realize that all of these animated characters initially start out as static 3D shapes, not unlike stone sculptures that are unable to move. Before a character built in this way can be seen in motion, the precise way in which its shape can change over time must be characterized mathematically. The most common way of doing this entails designing a customized 3D skeleton that is then attached to its outer skin. Subsequently, any adjustment to the posture of the skeleton will result in a corresponding change to the posture of the character. The figure below shows a simple character with an embedded skeleton and two example poses that were created by  rotating the joints of the skeleton.\n",
    "\n",
    "<br><img width=\"490\" src=\"//rgl.s3.eu-central-1.amazonaws.com/media/uploads/wjakob/2016/12/06/ik-system.jpg\"><br>\n",
    "\n",
    "A skeleton can range from a few elements to massively complex arrangements that reproduce the entire biological structure of the person or animal in question. In either case, the skeleton consists only of repeated instances of one basic component: a *bone*. Fortunately, computer graphics bones are much simpler than actual bones in real life.\n",
    "\n",
    "<br><img width=\"490\" src=\"//rgl.s3.eu-central-1.amazonaws.com/media/uploads/wjakob/2016/12/06/inverse-kinematics-05.png\"><br>\n",
    "\n",
    "As you can see in the above figure, each bone is essentially a line segment with a joint where it is connected to the previous bone. The bone can rotate in any way, but the connection between two bones can never move apart. Each bone also has a fixed length, in other words: it is rigid and never compresses or expands. On the other side, the next bone is generally attached. In 3D, a variety of rotations are possible (e.g. around the X, Y, or Z axis). In two dimensions things are simpler, and a single angle is enough to completely characterize the rotation of a bone relative to its predecessor bone. Everything in this homework will be in two dimensions to keep things simple.\n",
    "\n",
    "## Part 1: Forward Kinematics (40 pts)\n",
    "\n",
    "In this exercise, we'll investigate the mathematics of a very simple kind of \"skeleton\": a chain of bones in two dimensions with joint positions $\\vp_i = (x_i, y_i)$. The first joint is rigidly attached to the origin (i.e. $\\vp_0 = (0, 0)$) while the other joints and bones are free to move in any way. For simplicitly, we'll also assume that all of the bones have the same length $l_1=l_2=\\ldots=1$.\n",
    "\n",
    "<img width=\"490\" src=\"//rgl.s3.eu-central-1.amazonaws.com/media/uploads/wjakob/2016/12/06/inverse-kinematics-01.png\"> \n",
    "\n",
    "Each parameter $\\theta_i\\in[0,2\\pi]$ specifies the counter-clockwise angle that the associated bone from joint $\\vp_{i-1}$ to joint $\\vp_i$ makes with its predecessor bone (the pair of bones are parallel if $\\theta_i=0$). The first bone doesn't have a predecessor, hence $\\theta_1$ is measured relative to the $X$ axis. Note how the complete set of bone angles $\\theta_1, \\theta_2, \\ldots$ is all the information we need to compute the precise positions of all the joint positions in Euclidean space.\n",
    "\n",
    "Forward kinematics (FK) is defined as the problem of converting a set of bone angles $\\theta_i$ into joint positions $\\vp_i$. Since $\\vp_i$ depends on all of the preceding angles, we can think of each joint position as a function $\\vp_i=\\vp(\\theta_1,\\ldots,\\theta_{i})$ \n",
    "\n",
    "**TODO** (15 pts): Your first task is to create a function ``chain_simple``, which solves the forward kinematics for a chain with at most one bone. The function should take an array of angles as a parameter, which can be of length 0 or 1 (use the Python ``len()`` function to query the length of an array). When no angles are specified, the function should return the position of the first joint $(x_0,y_0)=(0, 0)$ as an 1D NumPy array. When a single angle is specified, it should return the position $x_1, y_1$.\n",
    "\n",
    "Ensure that your implementation satisfies the following equalities (up to minor rounding errors):\n",
    "\n",
    "1. ``chain_simple([]) == np.array([0., 0.])`` \n",
    "2. ``chain_simple([0.]) == np.array([1., 0.])``.\n",
    "3. ``chain_simple([np.pi / 4]) == np.array([ 0.70710678,  0.70710678])``."
   ]
  },
  {
   "cell_type": "markdown",
   "metadata": {},
   "source": [
    "## Solution"
   ]
  },
  {
   "cell_type": "code",
   "execution_count": 3,
   "metadata": {
    "scrolled": true
   },
   "outputs": [
    {
     "name": "stdout",
     "output_type": "stream",
     "text": [
      "Tests for the function chain_simple\n",
      "***********************************\n",
      "1. \n",
      "[ 0.  0.]\n",
      "[ 0.  0.]\n",
      "[ True  True]\n",
      "2. \n",
      "[ 1.  0.]\n",
      "[ 1.  0.]\n",
      "[ True  True]\n",
      "3. \n",
      "[ 0.707106781187 0.707106781187]\n",
      "[ 0.70710678  0.70710678]\n",
      "[False False]\n",
      "The arrays are equal up to precision 9\n"
     ]
    }
   ],
   "source": [
    "def chain_simple(theta):\n",
    "    if len(theta) == 0:\n",
    "        return np.array([0., 0.])\n",
    "    elif len(theta) == 1:\n",
    "        return np.array([np.cos(theta[0]), np.sin(theta[0])])\n",
    "    else:\n",
    "        print(\"Error: too many arguments!\")\n",
    "    \n",
    "print(\"Tests for the function chain_simple\\n***********************************\")\n",
    "print(\"1. \")\n",
    "print(chain_simple([]))\n",
    "print(np.array([0., 0.]))\n",
    "print(chain_simple([]) == np.array([0., 0.]))\n",
    "print(\"2. \")\n",
    "print(chain_simple([0.]))\n",
    "print(np.array([1., 0.]))\n",
    "print(chain_simple([0.]) == np.array([1., 0.]))\n",
    "print(\"3. \")\n",
    "#print(chain_simple([np.pi / 4]))\n",
    "print(\"[ %.12f %.12f]\" % (tuple(chain_simple([np.pi / 4]))))\n",
    "print(np.array([ 0.70710678,  0.70710678]))\n",
    "print(chain_simple([np.pi / 4]) == np.array([ 0.70710678,  0.70710678]))\n",
    "if np.testing.assert_array_almost_equal(chain_simple([np.pi / 4]), np.array([ 0.70710678,  0.70710678]), decimal = 9) == None:\n",
    "    print(\"The arrays are equal up to precision 9\")"
   ]
  },
  {
   "cell_type": "markdown",
   "metadata": {},
   "source": [
    "# 1.1 Helper function\n",
    "\n",
    "We provide the function ``fk_demo()`` below to interactively explore the possible chain configurations via forward kinematics. The implementation uses the ``bqplot`` library mentioned above and is fairly technical. You are welcomed but not expected to read or understand how it works."
   ]
  },
  {
   "cell_type": "code",
   "execution_count": 4,
   "metadata": {
    "collapsed": true
   },
   "outputs": [],
   "source": [
    "def fk_demo(chain_func, theta, extra = [[],[]]):\n",
    "    '''\n",
    "    This function visualizes the configuration of a chain of bones\n",
    "    and permits interactive changes to its state. It expects two arguments:\n",
    "    \n",
    "    ``chain_func``: a function that implements forward kinematics by\n",
    "    turning a sequence of angles (theta_1, theta_2, ..., theta_n) into\n",
    "    the position of the last joint of this chain (x_n, y_n).\n",
    "    \n",
    "    ``theta``: an array with the initial angles of all joints\n",
    "    \n",
    "    ``extra``: An optional argument which can be used to plot\n",
    "    additional points that are highlighted in red\n",
    "    '''\n",
    "    \n",
    "    # Function which repeatedly calls ``chain_func`` to compute all joint positions\n",
    "    def chain_all(theta):\n",
    "        return np.column_stack([chain_func(theta[:i]) for i in range(0, len(theta) + 1)])\n",
    "\n",
    "    # Determine size and initial configuration\n",
    "    size = len(theta)\n",
    "    positions = chain_all(theta)\n",
    "\n",
    "    # Define the range of the plotting frame\n",
    "    scales = { 'x': bqp.LinearScale(min=-size-1, max=size+1),\n",
    "               'y': bqp.LinearScale(min=-size-1, max=size+1) }\n",
    "\n",
    "    # Create a scatter plot (for joints), a line plot (for bones), and\n",
    "    # another scatter plot (to draw extra points specified the ``extra`` argument)\n",
    "    scat  = bqp.Scatter(scales=scales)\n",
    "    lines = bqp.Lines(scales=scales)\n",
    "    scat2 = bqp.Scatter(scales=scales, default_colors=['red'])\n",
    "\n",
    "    # Create a figure that combines the three plots\n",
    "    figure = bqp.Figure(marks=[scat, scat2, lines])\n",
    "    figure.layout.height = '500px'\n",
    "    figure.layout.width = '500px'\n",
    "    \n",
    "    # Initialize the plots with the initial data\n",
    "    scat.x, scat.y = positions\n",
    "    lines.x, lines.y = positions\n",
    "    scat2.x, scat2.y = extra\n",
    "    \n",
    "    sliders = []\n",
    "    \n",
    "    # For each angle theta_i,\n",
    "    for i in range(len(theta)):\n",
    "        # Create a graphical slider\n",
    "        slider = FloatSlider(min=0, max=2*np.pi, value=theta[i], step=1e-3)\n",
    "        \n",
    "        # Define a callback function that will be triggered when the slider is moved\n",
    "        def callback(value, i = i):\n",
    "            theta[i] = value['new']\n",
    "            positions = chain_all(theta)\n",
    "            scat.x, scat.y = positions\n",
    "            lines.x, lines.y = positions\n",
    "\n",
    "        # \"Attach\" the callback function to the slider\n",
    "        slider.observe(callback, 'value')\n",
    "        sliders.append(slider)\n",
    "\n",
    "    # Combine the plots and sliders in a vertical arrangement\n",
    "    return VBox([*sliders, figure])"
   ]
  },
  {
   "cell_type": "markdown",
   "metadata": {},
   "source": [
    "## 1.2 Visualization of the forward kinematics\n",
    "\n",
    "**TODO (0pts)**: To ensure that your implementation of ``chain_simple`` satisfies all the specifications, invoke the ``fk_demo()`` function with arguments ``chain_simple`` and ``[0.]`` (the initial parameters of a flat chain). You should be able to drag a slider from 0 to $2\\pi$ and see a visual representation of a 1-bone chain turning counter-clockwise."
   ]
  },
  {
   "cell_type": "markdown",
   "metadata": {},
   "source": [
    "## Solution 1.2"
   ]
  },
  {
   "cell_type": "code",
   "execution_count": 5,
   "metadata": {},
   "outputs": [
    {
     "data": {
      "application/vnd.jupyter.widget-view+json": {
       "model_id": "492f8bd16e8d4ce5a062629c4759274a",
       "version_major": 2,
       "version_minor": 0
      },
      "text/html": [
       "<p>Failed to display Jupyter Widget of type <code>VBox</code>.</p>\n",
       "<p>\n",
       "  If you're reading this message in the Jupyter Notebook or JupyterLab Notebook, it may mean\n",
       "  that the widgets JavaScript is still loading. If this message persists, it\n",
       "  likely means that the widgets JavaScript library is either not installed or\n",
       "  not enabled. See the <a href=\"https://ipywidgets.readthedocs.io/en/stable/user_install.html\">Jupyter\n",
       "  Widgets Documentation</a> for setup instructions.\n",
       "</p>\n",
       "<p>\n",
       "  If you're reading this message in another frontend (for example, a static\n",
       "  rendering on GitHub or <a href=\"https://nbviewer.jupyter.org/\">NBViewer</a>),\n",
       "  it may mean that your frontend doesn't currently support widgets.\n",
       "</p>\n"
      ],
      "text/plain": [
       "VBox(children=(FloatSlider(value=0.0, max=6.283185307179586, step=0.001), Figure(fig_margin={'top': 60, 'bottom': 60, 'left': 60, 'right': 60}, layout=Layout(height='500px', min_width='125px', width='500px'), marks=[Scatter(colors=['DeepSkyBlue'], interactions={'hover': 'tooltip'}, scales={'x': LinearScale(max=2.0, min=-2.0), 'y': LinearScale(max=2.0, min=-2.0)}, scales_metadata={'x': {'orientation': 'horizontal', 'dimension': 'x'}, 'y': {'orientation': 'vertical', 'dimension': 'y'}, 'color': {'dimension': 'color'}, 'size': {'dimension': 'size'}, 'opacity': {'dimension': 'opacity'}, 'rotation': {'dimension': 'rotation'}, 'skew': {'dimension': 'skew'}}, tooltip_style={'opacity': 0.9}, x=array([ 0.,  1.]), y=array([ 0.,  0.])), Scatter(colors=['DeepSkyBlue'], interactions={'hover': 'tooltip'}, scales={'x': LinearScale(max=2.0, min=-2.0), 'y': LinearScale(max=2.0, min=-2.0)}, scales_metadata={'x': {'orientation': 'horizontal', 'dimension': 'x'}, 'y': {'orientation': 'vertical', 'dimension': 'y'}, 'color': {'dimension': 'color'}, 'size': {'dimension': 'size'}, 'opacity': {'dimension': 'opacity'}, 'rotation': {'dimension': 'rotation'}, 'skew': {'dimension': 'skew'}}, tooltip_style={'opacity': 0.9}), Lines(colors=['#1f77b4', '#ff7f0e', '#2ca02c', '#d62728', '#9467bd', '#8c564b', '#e377c2', '#7f7f7f', '#bcbd22', '#17becf'], interactions={'hover': 'tooltip'}, scales={'x': LinearScale(max=2.0, min=-2.0), 'y': LinearScale(max=2.0, min=-2.0)}, scales_metadata={'x': {'orientation': 'horizontal', 'dimension': 'x'}, 'y': {'orientation': 'vertical', 'dimension': 'y'}, 'color': {'dimension': 'color'}}, tooltip_style={'opacity': 0.9}, x=array([ 0.,  1.]), y=array([ 0.,  0.]))], scale_x=LinearScale(allow_padding=False, max=1.0, min=0.0), scale_y=LinearScale(allow_padding=False, max=1.0, min=0.0))))"
      ]
     },
     "metadata": {},
     "output_type": "display_data"
    }
   ],
   "source": [
    "fk_demo(chain_simple, [0.])"
   ]
  },
  {
   "cell_type": "markdown",
   "metadata": {},
   "source": [
    "## 1.3 Longer chains\n",
    "\n",
    "**TODO** (20 pts): Create a function ``chain``, which solves the forward kinematics for an arbitrarily long sequence of bones. The function should take an arbitrary-length array of angles as a parameter. When no angles are specified, the function should return the position $(x_0, y_0)$ as before. When $i$ angles are specified, it should (only) return  the joint position $(x_{i}, y_{i})$. You'll likely want to use recursion, which allows for a particularly simple implementation.\n",
    "\n",
    "Ensure that your implementation satisfies the previously listed equalities in addition to the following two (up to minor rounding errors):\n",
    "\n",
    "1. ``chain([0.1, 0.2, 0.3, 0.4]) == np.array([ 3.31597858,  1.80146708])``\n",
    "2. ``chain([np.pi, np.pi, np.pi, np.pi]) == np.array([0, 0])``"
   ]
  },
  {
   "cell_type": "markdown",
   "metadata": {},
   "source": [
    "## Solution 1.3\n",
    "\n",
    "I have written two solutions, one recursive and one iterative for performance purposes. For the rest of the homweork, I'll still use the recursive implementation."
   ]
  },
  {
   "cell_type": "code",
   "execution_count": 6,
   "metadata": {},
   "outputs": [
    {
     "name": "stdout",
     "output_type": "stream",
     "text": [
      "1.  [ 3.31597858  1.80146708]\n",
      "The arrays are equal up to precision 8\n",
      "2.  [  0.00000000e+00  -2.44929360e-16]\n",
      "The arrays are equal up to precision 9\n"
     ]
    }
   ],
   "source": [
    "def chain(theta):\n",
    "    if len(theta) <= 1:\n",
    "        return chain_simple(theta)\n",
    "    def chainRec(theta, thetaAcc):\n",
    "        if len(theta) <= 1:         \n",
    "            thetaAcc += theta[0]\n",
    "            return np.array([np.cos(thetaAcc), np.sin(thetaAcc)])\n",
    "        else:\n",
    "            thetaAcc += theta[0]\n",
    "            posJoint = chainRec(np.delete(theta, 0), thetaAcc)\n",
    "            return posJoint + np.array([np.cos(thetaAcc), np.sin(thetaAcc)])\n",
    "    #The initial value of thetaAcc is 0\n",
    "    return chainRec(theta, 0)\n",
    "\n",
    "def chainIter(theta):\n",
    "    thetaAcc = theta[0]\n",
    "    posJoint = chain_simple([theta[0]])\n",
    "    for i in range(1, len(theta)):\n",
    "        thetaAcc += theta[i]\n",
    "        posJoint = posJoint + [np.cos(thetaAcc), np.sin(thetaAcc)]\n",
    "    return posJoint\n",
    "\n",
    "import time\n",
    "tim = time.process_time()\n",
    "pos = chain([0.1, 0.2, 0.3, 0.4])\n",
    "#print(\"Time rec = \", time.process_time()-tim)\n",
    "print(\"1. \", pos)\n",
    "tim = time.process_time()\n",
    "posIter = chainIter([0.1, 0.2, 0.3, 0.4])\n",
    "#print(\"Time iter = \", time.process_time()-tim)\n",
    "#print(posIter)\n",
    "if np.testing.assert_array_almost_equal(pos, np.array([ 3.31597858,  1.80146708]), decimal = 8) == None:\n",
    "    print(\"The arrays are equal up to precision 8\") \n",
    "pos = chain([np.pi, np.pi, np.pi, np.pi])\n",
    "print(\"2. \", pos) \n",
    "posRef = np.array([0, 0]) \n",
    "if np.abs(pos[0] - posRef[0]) < 1.e-9 and np.abs(pos[1]- posRef[1]) < 1.e-9:\n",
    "    print(\"The arrays are equal up to precision 9\") "
   ]
  },
  {
   "cell_type": "markdown",
   "metadata": {},
   "source": [
    "## 1.4 Attempting to reach a certain position\n",
    "\n",
    "Run the command ``fk_demo(chain, [0, 0, 0, 0, 0], [[-2], [3]])`` below. You should see a chain with five segments and five corresponding sliders, as well as an additional point highlighted in red.\n",
    "\n",
    "**TODO (5 points)**: Find a configuration of angles that brings the endpoint of the chain as close as possible to the highlighted location ``[-2, 3]]``. An exact match is not necessary, but the points should overlap by a significant margin. Copy the parameters you found into the argment list of the ``fk_demo`` function call."
   ]
  },
  {
   "cell_type": "markdown",
   "metadata": {},
   "source": [
    "## Solution 1.4\n"
   ]
  },
  {
   "cell_type": "code",
   "execution_count": 7,
   "metadata": {},
   "outputs": [
    {
     "data": {
      "application/vnd.jupyter.widget-view+json": {
       "model_id": "bfb86eb085914212a8c7a209b05268d1",
       "version_major": 2,
       "version_minor": 0
      },
      "text/html": [
       "<p>Failed to display Jupyter Widget of type <code>VBox</code>.</p>\n",
       "<p>\n",
       "  If you're reading this message in the Jupyter Notebook or JupyterLab Notebook, it may mean\n",
       "  that the widgets JavaScript is still loading. If this message persists, it\n",
       "  likely means that the widgets JavaScript library is either not installed or\n",
       "  not enabled. See the <a href=\"https://ipywidgets.readthedocs.io/en/stable/user_install.html\">Jupyter\n",
       "  Widgets Documentation</a> for setup instructions.\n",
       "</p>\n",
       "<p>\n",
       "  If you're reading this message in another frontend (for example, a static\n",
       "  rendering on GitHub or <a href=\"https://nbviewer.jupyter.org/\">NBViewer</a>),\n",
       "  it may mean that your frontend doesn't currently support widgets.\n",
       "</p>\n"
      ],
      "text/plain": [
       "VBox(children=(FloatSlider(value=1.55, max=6.283185307179586, step=0.001), FloatSlider(value=0.38, max=6.283185307179586, step=0.001), FloatSlider(value=0.12, max=6.283185307179586, step=0.001), FloatSlider(value=0.03, max=6.283185307179586, step=0.001), FloatSlider(value=1.84, max=6.283185307179586, step=0.001), Figure(fig_margin={'top': 60, 'bottom': 60, 'left': 60, 'right': 60}, layout=Layout(height='500px', min_width='125px', width='500px'), marks=[Scatter(colors=['DeepSkyBlue'], interactions={'hover': 'tooltip'}, scales={'x': LinearScale(max=6.0, min=-6.0), 'y': LinearScale(max=6.0, min=-6.0)}, scales_metadata={'x': {'orientation': 'horizontal', 'dimension': 'x'}, 'y': {'orientation': 'vertical', 'dimension': 'y'}, 'color': {'dimension': 'color'}, 'size': {'dimension': 'size'}, 'opacity': {'dimension': 'opacity'}, 'rotation': {'dimension': 'rotation'}, 'skew': {'dimension': 'skew'}}, tooltip_style={'opacity': 0.9}, x=array([ 0.        ,  0.02079483, -0.33073401, -0.79180671, -1.27928881,\n",
       "       -1.99132152]), y=array([ 0.        ,  0.99978376,  1.93596082,  2.82332319,  3.69645616,\n",
       "        2.99430988])), Scatter(colors=['DeepSkyBlue'], interactions={'hover': 'tooltip'}, scales={'x': LinearScale(max=6.0, min=-6.0), 'y': LinearScale(max=6.0, min=-6.0)}, scales_metadata={'x': {'orientation': 'horizontal', 'dimension': 'x'}, 'y': {'orientation': 'vertical', 'dimension': 'y'}, 'color': {'dimension': 'color'}, 'size': {'dimension': 'size'}, 'opacity': {'dimension': 'opacity'}, 'rotation': {'dimension': 'rotation'}, 'skew': {'dimension': 'skew'}}, tooltip_style={'opacity': 0.9}, x=array([-2]), y=array([3])), Lines(colors=['#1f77b4', '#ff7f0e', '#2ca02c', '#d62728', '#9467bd', '#8c564b', '#e377c2', '#7f7f7f', '#bcbd22', '#17becf'], interactions={'hover': 'tooltip'}, scales={'x': LinearScale(max=6.0, min=-6.0), 'y': LinearScale(max=6.0, min=-6.0)}, scales_metadata={'x': {'orientation': 'horizontal', 'dimension': 'x'}, 'y': {'orientation': 'vertical', 'dimension': 'y'}, 'color': {'dimension': 'color'}}, tooltip_style={'opacity': 0.9}, x=array([ 0.        ,  0.02079483, -0.33073401, -0.79180671, -1.27928881,\n",
       "       -1.99132152]), y=array([ 0.        ,  0.99978376,  1.93596082,  2.82332319,  3.69645616,\n",
       "        2.99430988]))], scale_x=LinearScale(allow_padding=False, max=1.0, min=0.0), scale_y=LinearScale(allow_padding=False, max=1.0, min=0.0))))"
      ]
     },
     "metadata": {},
     "output_type": "display_data"
    }
   ],
   "source": [
    "fk_demo(chain, [1.55, 0.38, 0.12, 0.03, 1.84], [[-2], [3]],)"
   ]
  },
  {
   "cell_type": "markdown",
   "metadata": {},
   "source": [
    "We found, for exemple, this suitable configuration:\n",
    "[1.55, 0.38, 0.12, 0.03, 1.84]"
   ]
  },
  {
   "cell_type": "markdown",
   "metadata": {},
   "source": [
    "# Part 2: Inverse Kinematics (60 pts)\n",
    "\n",
    "Problems similar to the one in Section 1.4 are tedious to solve by hand: all of the parameters are interdependent and must be adjusted in a coordinated manner. So-called *inverse kinematics* techniques apply numerical root finding to determine solutions to this problem in an automated way. Most modern animation systems have builtin support for inverse kinematics since it allows for a much more convenient workflow: rather than having to tweak each individual bone, artists can directly specify a target shape, and the system will automatically infer all the necessary rotations.\n",
    "\n",
    "In this part of the exercise, we will use inverse kinematics to automatically determine $\\theta_1,\\ldots,\\theta_n$ such that\n",
    "\n",
    "$$\n",
    "\\vp(\\theta_1,\\ldots,\\theta_n) = \\vp_{\\mathrm{target}}\n",
    "$$\n",
    "\n",
    "for a given value $\\vp_{\\mathrm{target}}\\in\\mathbb{R}^2$. In other words: the user can move around the endpoint of the chain, and the skeleton will automatically reconfigure itself to follow. This is illustrated in the following figure:\n",
    "\n",
    "<img width=\"900\" src=\"//rgl.s3.eu-central-1.amazonaws.com/media/uploads/wjakob/2016/12/06/inverse-kinematics-04.png\"> \n",
    "\n",
    "All good numerical root finding techniques require the ability to evaluate the Jacobian of $\\vp$, i.e. all the partial derivatives $\\frac{\\partial\\vp(\\theta_1,\\ldots,\\theta_n)}{\\partial \\theta_j}$. The partial derivatives encode how a small perturbation of each of the angles $\\theta_j$ leads to a corresponding change in $\\vp(\\theta_1,\\ldots,\\theta_n)$. As before, we'll first look at a 1-segment chain and then derive a solution for the general problem.\n",
    "\n",
    "**TODO** (10 pts): Implement a function ``dchain_simple(theta)`` which takes an array with one entry, and which computes the function $\\frac{\\partial \\vp(\\theta_1)}{\\partial \\theta_1}$. The return value should be a two-dimensional array with one column and two rows containing the partial derivatives of the coordinate values $x_1$ and $y_1$. You should use analytic methods -- approximating the derivatives via finite differences is not allowed.\n",
    "\n",
    "Ensure that your implementation satisfies the following equalities (up to minor rounding errors):\n",
    "\n",
    "1. ``dchain_simple([0]) == np.array([[ 0.], [ 1.]])``.\n",
    "\n",
    "   In other words: a small perturbation around the angle $\\theta_1=0$ leads to a corresponding change in the $y_1$ coordinate.<br><br>\n",
    "   \n",
    "3. ``dchain_simple([np.pi / 4]) == np.array([[-0.70710678], [ 0.70710678]])``."
   ]
  },
  {
   "cell_type": "markdown",
   "metadata": {},
   "source": [
    "## Solution 2"
   ]
  },
  {
   "cell_type": "code",
   "execution_count": 8,
   "metadata": {},
   "outputs": [
    {
     "name": "stdout",
     "output_type": "stream",
     "text": [
      "1. \n",
      "[[-0.]\n",
      " [ 1.]]\n",
      "[[ 0.]\n",
      " [ 1.]]\n",
      "[[ True]\n",
      " [ True]]\n",
      "2. \n",
      "[[-0.707106781187] \n",
      " [0.707106781187]]\n",
      "[[-0.70710678]\n",
      " [ 0.70710678]]\n",
      "[[False]\n",
      " [False]]\n",
      "The arrays are equal up to precision 9\n"
     ]
    }
   ],
   "source": [
    "def dchain_simple(theta):\n",
    "    if len(theta) == 0:\n",
    "        return np.array([[0.], [1.]])\n",
    "    elif len(theta) == 1:\n",
    "        return np.array([[-np.sin(theta[0])],[np.cos(theta[0])]])\n",
    "    else:\n",
    "        print(\"Error: too many arguments!\")\n",
    "\n",
    "print(\"1. \")\n",
    "print(dchain_simple([0]))\n",
    "print(np.array([[ 0.], [ 1.]]))\n",
    "print(dchain_simple([0]) == np.array([[ 0.], [ 1.]]))\n",
    "\n",
    "print(\"2. \")\n",
    "#print(dchain_simple([np.pi / 4]))\n",
    "print(\"[[%.12f] \\n [%.12f]]\" % (tuple(dchain_simple([np.pi / 4]))))\n",
    "print(np.array([[-0.70710678], [ 0.70710678]]))\n",
    "print(dchain_simple([np.pi / 4]) == np.array([[-0.70710678], [ 0.70710678]]))\n",
    "if np.testing.assert_array_almost_equal(dchain_simple([np.pi / 4]), np.array([[-0.70710678], [ 0.70710678]]), decimal = 9) == None:\n",
    "    print(\"The arrays are equal up to precision 9\")"
   ]
  },
  {
   "cell_type": "markdown",
   "metadata": {},
   "source": [
    "## 2.1 Implementing the full Jacobian function\n",
    "\n",
    "Having finished the version for a single bone, we'll now turn to the full Jacobian $\\nabla \\vp(\\theta_1, \\ldots, \\theta_n)$, which is a $2\\times n$ matrix containing the partial derivatives with respect to all angles. You'll likely want to use a vector version of the [product](https://en.wikipedia.org/wiki/Product_rule) or [chain rule](https://en.wikipedia.org/wiki/Chain_rule) in your your implementation. Specifically, note that\n",
    "\n",
    "$$\n",
    "\\frac{\\partial}{\\partial t} \\left[\\mA(t)\\vx(t)\\right] = \\mA'(t)\\vx(t) + \\mA(t)\\vx'(t)\n",
    "$$\n",
    "\n",
    "where $\\mA(t)$ and $\\vx(t)$ are a matrix and a vector depending on a parameter $t$, respectively.\n",
    "\n",
    "**TODO** (30 pts): Implement a function ``dchain(theta)`` which accepts an 1D array of angles with length $\\ge 1$ and computes the Jacobian $\\nabla \\vp(\\theta_1, \\ldots, \\theta_n)$, a $2\\times n$ matrix.\n",
    "\n",
    "Ensure that your implementation satisfies the following equalities (up to minor rounding errors):\n",
    "\n",
    "1. ``dchain([0, 0, 0, 0]) == np.array([[ 0.,  0.,  0.,  0.], [ 4.,  3.,  2.,  1.]])``.\n",
    "\n",
    "   In other words: for a length-4 chain, the endpoint moves the most when the first joint is perturbed, while later joints have less of an effect.<br><br>\n",
    "   \n",
    "3. ``dchain([0.1, 0.2, 0.3]) == np.array([[-0.9599961 , -0.86016268, -0.56464247], [ 2.77567627,  1.7806721 ,  0.82533561]])``."
   ]
  },
  {
   "cell_type": "markdown",
   "metadata": {},
   "source": [
    "## Solution 2.1"
   ]
  },
  {
   "cell_type": "code",
   "execution_count": 9,
   "metadata": {},
   "outputs": [
    {
     "name": "stdout",
     "output_type": "stream",
     "text": [
      "1. \n",
      "[[ 0.  0.  0.  0.]\n",
      " [ 4.  3.  2.  1.]]\n",
      "[[ 0.  0.  0.  0.]\n",
      " [ 4.  3.  2.  1.]]\n",
      "[[ True  True  True  True]\n",
      " [ True  True  True  True]]\n",
      "2. \n",
      "[[-0.9599961  -0.86016268 -0.56464247]\n",
      " [ 2.77567627  1.7806721   0.82533561]]\n",
      "[[-0.9599961  -0.86016268 -0.56464247]\n",
      " [ 2.77567627  1.7806721   0.82533561]]\n",
      "[[False False False]\n",
      " [False False False]]\n",
      "The arrays are equal up to precision 8\n"
     ]
    }
   ],
   "source": [
    "def dchain(theta):\n",
    "    if len(theta) == 1:\n",
    "        return dchain_simple(theta)   \n",
    "    def dchainRec(theta, acc, flipJacobian):\n",
    "        if len(theta) == 0:\n",
    "            return np.fliplr(flipJacobian)\n",
    "        else:\n",
    "            acc = acc + dchain_simple(np.array([np.sum(theta)]))\n",
    "            flipJacobian = np.concatenate((flipJacobian, acc), axis = 1)\n",
    "            return dchainRec(np.delete(theta,len(theta)-1), acc, flipJacobian)\n",
    "    # The initial values for acc and flipJacobian are, respectively, np.array([[0.], [0.]] and np.array([[],[]])\n",
    "    return dchainRec(theta, np.array([[0.], [0.]]), np.array([[],[]]))\n",
    "\n",
    "print(\"1. \")\n",
    "print(dchain([0, 0, 0, 0]))\n",
    "print(np.array([[ 0.,  0.,  0.,  0.], [ 4.,  3.,  2.,  1.]]))\n",
    "print(dchain([0, 0, 0, 0]) == np.array([[ 0.,  0.,  0.,  0.], [ 4.,  3.,  2.,  1.]]))\n",
    "\n",
    "print(\"2. \")\n",
    "print(dchain([0.1, 0.2, 0.3]))\n",
    "print(np.array([[-0.9599961 , -0.86016268, -0.56464247], [ 2.77567627,  1.7806721 ,  0.82533561]]))\n",
    "print(dchain([0.1, 0.2, 0.3]) == np.array([[-0.9599961 , -0.86016268, -0.56464247], [ 2.77567627,  1.7806721 ,  0.82533561]]))\n",
    "if np.testing.assert_array_almost_equal(dchain([0.1, 0.2, 0.3]), np.array([[-0.9599961 , -0.86016268, -0.56464247], [ 2.77567627,  1.7806721 ,  0.82533561]]), decimal = 8) == None:\n",
    "    print(\"The arrays are equal up to precision 8\")\n"
   ]
  },
  {
   "cell_type": "markdown",
   "metadata": {},
   "source": [
    "## 2.2 Solving the inverse kinematics problem using Newton's Method\n",
    "\n",
    "Newton's method is one of the most widely used methods for finding solutions to systems of non-linear equations. It  converges at a remarkable speed when started sufficiently close to a root, though there is generally no strict guarantee of convergence.\n",
    "\n",
    "Given a function $\\vf(\\vx)$, Newton's method tries to find a solution to the equation $\\vf = 0$ using steps of the form\n",
    "\n",
    "$$\n",
    "\\vx_{i+1}=\\vx_i - \\left(\\nabla \\vf\\right)^{-1}\\vf(\\vx_{i}).\n",
    "$$\n",
    "\n",
    "In the context of inverse kinematics, we want to apply Newton's method to solve an equation of the form\n",
    "\n",
    "$$\n",
    "\\vp(\\theta_1,\\ldots,\\theta_n) = \\vp_{\\mathrm{target}}.\n",
    "$$\n",
    "\n",
    "for a given reference position $\\vp_{\\mathrm{target}}\\in\\mathbb{R}^2$.\n",
    "\n",
    "In other words: the unknowns are the angles $\\theta_1,\\ldots,\\theta_n$, and the function whose root we seek maps to a two-dimensional domain. It is not immediately obvious how to apply Newton's method, since the Jacobian of the function has the shape $2\\times n$ and hence cannot be inverted using standard techniques like the LU decomposition.\n",
    "\n",
    "This should not be surprising. It is a consequence of the fact that many different configurations can be used to reach the same $\\vp_{\\mathrm{target}}$, which you may have noticed in part 1.4.\n",
    "\n",
    "Fortunately, we can use the *pseudoinverse*, a generalization of the inverse to non-square matrices. In this specific case, the Jacobian is *wide* (i.e. it has more columns than rows), in which case the pseudoinverse will find the solution to a linear system which has the smallest $\\|\\cdot\\|_2$-norm. That is excellent news, since it causes the IK solver to make small adjustments to the angles to reach a new position.\n",
    "\n",
    "**TODO** (15 pts): Implement a function ``newton(theta, target)`` that takes a 1-dimensional array of angles as a starting guess as well as a 2D target position (also specified as a 1-dimensional array) as input. The implementation should perform a fixed 8 iterations of Newton's method to try to solve the equation $\\vp(\\theta_1,\\ldots,\\theta_n) = \\vp_{\\mathrm{target}}$ and return the final set of parameters $\\theta_1,\\ldots,\\theta_n$ as an 1-dimensional NumPy array. You can use the function ``la.pinv`` to compute the pseudoinverse.\n",
    "\n",
    "Ensure that your implementation is able to converge to the following positions (up to minor rounding errors)\n",
    "\n",
    "1. Moving a 1-element chain from the default configuration to position $(0, 1)$, i.e. ``chain(newton(np.array([0.]), np.array([0., 1.]))) == np.array([0, 1])``<br><br>\n",
    "\n",
    "1. Moving a 2-element chain from the default configuration to position $(0.5, 0.5)$, i.e. ``chain(newton(np.array([0., 0.]), np.array([0.5, 0.5]))) == np.array([0.5, 0.5])``"
   ]
  },
  {
   "cell_type": "markdown",
   "metadata": {},
   "source": [
    "## Solution 2.2"
   ]
  },
  {
   "cell_type": "code",
   "execution_count": 10,
   "metadata": {},
   "outputs": [
    {
     "name": "stdout",
     "output_type": "stream",
     "text": [
      "1. \n",
      "[  6.12323400e-17   1.00000000e+00]\n",
      "[0 1]\n",
      "[False  True]\n",
      "The arrays are equal up to precision 16\n",
      "2. \n",
      "[ 0.4999999999999988 0.4999999999999996]\n",
      "[ 0.5  0.5]\n",
      "[False False]\n",
      "The arrays are equals up to precision 15\n"
     ]
    }
   ],
   "source": [
    "def newton(theta, target):\n",
    "    #The implementation performs a fixed 8 iterations of Newton's method\n",
    "    for i in range(8):\n",
    "        pos = chain(theta)\n",
    "        deltaPos = pos - target\n",
    "        jacobian = dchain(theta)\n",
    "        pseudoInvJacobian = la.pinv(jacobian)\n",
    "        deltaTheta = (pseudoInvJacobian @ deltaPos[:, np.newaxis]).squeeze()\n",
    "        theta = theta - deltaTheta    \n",
    "    return theta\n",
    "\n",
    "print(\"1. \")\n",
    "print(chain(newton(np.array([0.]), np.array([0., 1.]))))\n",
    "print(np.array([0, 1]))\n",
    "print(chain(newton(np.array([0.]), np.array([0., 1.]))) == np.array([0, 1]))\n",
    "if np.testing.assert_array_almost_equal(chain(newton(np.array([0.]), np.array([0., 1.]))), np.array([0, 1]), decimal = 16) == None:\n",
    "    print(\"The arrays are equal up to precision 16\")\n",
    "\n",
    "\n",
    "print(\"2. \")\n",
    "#print(chain(newton(np.array([0., 0.]), np.array([0.5, 0.5]))))\n",
    "print(\"[ %.16f %.16f]\" % (tuple(chain(newton(np.array([0., 0.]), np.array([0.5, 0.5]))))))\n",
    "print(np.array([0.5, 0.5]))\n",
    "print(chain(newton(np.array([0., 0.]), np.array([0.5, 0.5]))) == np.array([0.5, 0.5]))\n",
    "if np.testing.assert_array_almost_equal(chain(newton(np.array([0., 0.]), np.array([0.5, 0.5]))), np.array([0.5, 0.5]), decimal = 15) == None:\n",
    "    print(\"The arrays are equals up to precision 15\")"
   ]
  },
  {
   "cell_type": "markdown",
   "metadata": {},
   "source": [
    "## 2.3 One more helper function\n",
    "\n",
    "We provide the function ``ik_demo()`` below to interactively explore the possible chain configurations via inverse kinematics. Similar to ``fk_demo()``, the function is fairly technical. You are welcomed but not expected to read or understand how it works."
   ]
  },
  {
   "cell_type": "markdown",
   "metadata": {},
   "source": [
    "I made a litle change in this method in order to plot a red endpoint."
   ]
  },
  {
   "cell_type": "code",
   "execution_count": 11,
   "metadata": {
    "collapsed": true
   },
   "outputs": [],
   "source": [
    "def ik_demo(solver, size):    \n",
    "    theta = np.zeros(size, dtype=np.float64)\n",
    "    \n",
    "    # Function which repeatedly calls ``chain`` to compute all joint positions\n",
    "    def chain_all(theta):\n",
    "        return np.column_stack([chain(theta[:i]) for i in range(0, len(theta) + 1)])\n",
    "\n",
    "    # Callback that is invoked when the user drags the red endpoint around\n",
    "    def refresh(_):\n",
    "        # 'theta' is a variable of the parent function, we want to modify it here\n",
    "        nonlocal theta\n",
    "        \n",
    "        # Target position\n",
    "        target = np.array([scat2.x[0], scat2.y[0]])\n",
    "        \n",
    "        # Don't try to solve the problem if the user dragged the point out of the circle\n",
    "        if la.norm(target) > size:\n",
    "            return\n",
    "        \n",
    "        # Call the provided IK solver\n",
    "        theta = solver(theta, target)\n",
    "        \n",
    "        # Update the positions\n",
    "        values = chain_all(theta)\n",
    "        scat.x, scat.y = values\n",
    "        lines.x, lines.y = values\n",
    "    \n",
    "    # Similar to fk_solver(), create a number of plots and merge them\n",
    "    scales = { 'x': bqp.LinearScale(min=-size-1, max=size+1),\n",
    "               'y': bqp.LinearScale(min=-size-1, max=size+1) }\n",
    "\n",
    "    scat  = bqp.Scatter(scales=scales)\n",
    "    lines = bqp.Lines(scales=scales)\n",
    "\n",
    "    # Create a circle which marks the boundary of where the red point can be moved\n",
    "    circle_x = np.cos(np.linspace(0, 2*np.pi, 100)) * size\n",
    "    circle_y = np.sin(np.linspace(0, 2*np.pi, 100)) * size\n",
    "    circle = bqp.Lines(x=circle_x, y=circle_y,\n",
    "                       scales=scales, colors=['gray'])\n",
    "    \n",
    "    # Special plot, which contains the red endpoint that can be moved\n",
    "    scat2 = bqp.Scatter(scales=scales,\n",
    "                        enable_move=True, \n",
    "                        update_on_move=True,\n",
    "                        #default_colors=['red'])\n",
    "                        colors=['red'])\n",
    "\n",
    "    # Initialize the visualizations with the default configuration\n",
    "    values = chain_all(theta)\n",
    "    scat.x, scat.y = values\n",
    "    lines.x, lines.y = values\n",
    "    scat2.x, scat2.y = chain(theta).reshape(2, 1)\n",
    "    \n",
    "    # Call the 'refresh' function when the red dot is moved\n",
    "    scat2.observe(refresh, names=['x', 'y'])\n",
    "\n",
    "    figure = bqp.Figure(marks=[scat, scat2, lines, circle])\n",
    "    figure.layout.height = '500px'\n",
    "    figure.layout.width = '500px'\n",
    "    return figure"
   ]
  },
  {
   "cell_type": "markdown",
   "metadata": {},
   "source": [
    "## 2.4 Putting everything together\n",
    "\n",
    "Finally, let's visualize the behavior of the completed inverse kinematics solver. \n",
    "\n",
    "**TODO** (5 pts):\n",
    "1. Invoke the IK demonstration with with 4 segments, i.e. ``ik_demo(newton, 4)``. You should be able to move the red endpoint with your mouse cursor, leading to a smooth adjustment of the chain configuration.<br><br>\n",
    "\n",
    "2. Invoke the IK demonstration with with 30 segments, i.e. ``ik_demo(newton, 30)``. Does the algorithm still work? Can you break it by moving the cursor too quickly? What happens in this case? Can you recover?"
   ]
  },
  {
   "cell_type": "markdown",
   "metadata": {},
   "source": [
    "## Solution 2.4.1"
   ]
  },
  {
   "cell_type": "code",
   "execution_count": 12,
   "metadata": {},
   "outputs": [
    {
     "data": {
      "application/vnd.jupyter.widget-view+json": {
       "model_id": "ed7fb4ce3b0241f89e0285e6d8ce8c05",
       "version_major": 2,
       "version_minor": 0
      },
      "text/html": [
       "<p>Failed to display Jupyter Widget of type <code>Figure</code>.</p>\n",
       "<p>\n",
       "  If you're reading this message in the Jupyter Notebook or JupyterLab Notebook, it may mean\n",
       "  that the widgets JavaScript is still loading. If this message persists, it\n",
       "  likely means that the widgets JavaScript library is either not installed or\n",
       "  not enabled. See the <a href=\"https://ipywidgets.readthedocs.io/en/stable/user_install.html\">Jupyter\n",
       "  Widgets Documentation</a> for setup instructions.\n",
       "</p>\n",
       "<p>\n",
       "  If you're reading this message in another frontend (for example, a static\n",
       "  rendering on GitHub or <a href=\"https://nbviewer.jupyter.org/\">NBViewer</a>),\n",
       "  it may mean that your frontend doesn't currently support widgets.\n",
       "</p>\n"
      ],
      "text/plain": [
       "Figure(fig_margin={'top': 60, 'bottom': 60, 'left': 60, 'right': 60}, layout=Layout(height='500px', min_width='125px', width='500px'), marks=[Scatter(colors=['DeepSkyBlue'], interactions={'hover': 'tooltip'}, scales={'x': LinearScale(max=5.0, min=-5.0), 'y': LinearScale(max=5.0, min=-5.0)}, scales_metadata={'x': {'orientation': 'horizontal', 'dimension': 'x'}, 'y': {'orientation': 'vertical', 'dimension': 'y'}, 'color': {'dimension': 'color'}, 'size': {'dimension': 'size'}, 'opacity': {'dimension': 'opacity'}, 'rotation': {'dimension': 'rotation'}, 'skew': {'dimension': 'skew'}}, tooltip_style={'opacity': 0.9}, x=array([ 0.,  1.,  2.,  3.,  4.]), y=array([ 0.,  0.,  0.,  0.,  0.])), Scatter(colors=['red'], enable_move=True, interactions={'hover': 'tooltip'}, scales={'x': LinearScale(max=5.0, min=-5.0), 'y': LinearScale(max=5.0, min=-5.0)}, scales_metadata={'x': {'orientation': 'horizontal', 'dimension': 'x'}, 'y': {'orientation': 'vertical', 'dimension': 'y'}, 'color': {'dimension': 'color'}, 'size': {'dimension': 'size'}, 'opacity': {'dimension': 'opacity'}, 'rotation': {'dimension': 'rotation'}, 'skew': {'dimension': 'skew'}}, tooltip_style={'opacity': 0.9}, update_on_move=True, x=array([ 4.]), y=array([ 0.])), Lines(colors=['#1f77b4', '#ff7f0e', '#2ca02c', '#d62728', '#9467bd', '#8c564b', '#e377c2', '#7f7f7f', '#bcbd22', '#17becf'], interactions={'hover': 'tooltip'}, scales={'x': LinearScale(max=5.0, min=-5.0), 'y': LinearScale(max=5.0, min=-5.0)}, scales_metadata={'x': {'orientation': 'horizontal', 'dimension': 'x'}, 'y': {'orientation': 'vertical', 'dimension': 'y'}, 'color': {'dimension': 'color'}}, tooltip_style={'opacity': 0.9}, x=array([ 0.,  1.,  2.,  3.,  4.]), y=array([ 0.,  0.,  0.,  0.,  0.])), Lines(colors=['gray'], interactions={'hover': 'tooltip'}, scales={'x': LinearScale(max=5.0, min=-5.0), 'y': LinearScale(max=5.0, min=-5.0)}, scales_metadata={'x': {'orientation': 'horizontal', 'dimension': 'x'}, 'y': {'orientation': 'vertical', 'dimension': 'y'}, 'color': {'dimension': 'color'}}, tooltip_style={'opacity': 0.9}, x=array([ 4.        ,  3.99194671,  3.96781925,  3.92771479,  3.87179481,\n",
       "        3.80028447,  3.71347173,  3.61170615,  3.49539751,  3.36501413,\n",
       "        3.22108103,  3.06417777,  2.89493615,  2.71403765,  2.52221067,\n",
       "        2.32022764,  2.10890187,  1.8890843 ,  1.66166005,  1.42754489,\n",
       "        1.1876815 ,  0.94303574,  0.69459271,  0.4433528 ,  0.19032766,\n",
       "       -0.06346386, -0.31699983, -0.56925935, -0.81922667, -1.06589525,\n",
       "       -1.30827185, -1.5453805 , -1.77626645, -2.        , -2.21568026,\n",
       "       -2.42243875, -2.61944294, -2.80589955, -2.9810578 , -3.14421238,\n",
       "       -3.29470633, -3.43193365, -3.55534179, -3.66443383, -3.75877048,\n",
       "       -3.83797189, -3.90171915, -3.94975555, -3.98188769, -3.99798617,\n",
       "       -3.99798617, -3.98188769, -3.94975555, -3.90171915, -3.83797189,\n",
       "       -3.75877048, -3.66443383, -3.55534179, -3.43193365, -3.29470633,\n",
       "       -3.14421238, -2.9810578 , -2.80589955, -2.61944294, -2.42243875,\n",
       "       -2.21568026, -2.        , -1.77626645, -1.5453805 , -1.30827185,\n",
       "       -1.06589525, -0.81922667, -0.56925935, -0.31699983, -0.06346386,\n",
       "        0.19032766,  0.4433528 ,  0.69459271,  0.94303574,  1.1876815 ,\n",
       "        1.42754489,  1.66166005,  1.8890843 ,  2.10890187,  2.32022764,\n",
       "        2.52221067,  2.71403765,  2.89493615,  3.06417777,  3.22108103,\n",
       "        3.36501413,  3.49539751,  3.61170615,  3.71347173,  3.80028447,\n",
       "        3.87179481,  3.92771479,  3.96781925,  3.99194671,  4.        ]), y=array([  0.00000000e+00,   2.53695679e-01,   5.06369814e-01,\n",
       "         7.57004977e-01,   1.00459195e+00,   1.24813378e+00,\n",
       "         1.48664982e+00,   1.71917965e+00,   1.94478694e+00,\n",
       "         2.16256327e+00,   2.37163172e+00,   2.57115044e+00,\n",
       "         2.76031605e+00,   2.93836683e+00,   3.10458586e+00,\n",
       "         3.25830381e+00,   3.39890172e+00,   3.52581345e+00,\n",
       "         3.63852798e+00,   3.73659144e+00,   3.81960897e+00,\n",
       "         3.88724627e+00,   3.93923101e+00,   3.97535386e+00,\n",
       "         3.99546936e+00,   3.99949651e+00,   3.98741910e+00,\n",
       "         3.95928577e+00,   3.91520978e+00,   3.85536863e+00,\n",
       "         3.78000327e+00,   3.68941718e+00,   3.58397510e+00,\n",
       "         3.46410162e+00,   3.33027942e+00,   3.18304736e+00,\n",
       "         3.02299830e+00,   2.85077669e+00,   2.66707600e+00,\n",
       "         2.47263594e+00,   2.26823946e+00,   2.05470957e+00,\n",
       "         1.83290609e+00,   1.60372214e+00,   1.36808057e+00,\n",
       "         1.12693023e+00,   8.81242131e-01,   6.32005584e-01,\n",
       "         3.80224173e-01,   1.26911734e-01,  -1.26911734e-01,\n",
       "        -3.80224173e-01,  -6.32005584e-01,  -8.81242131e-01,\n",
       "        -1.12693023e+00,  -1.36808057e+00,  -1.60372214e+00,\n",
       "        -1.83290609e+00,  -2.05470957e+00,  -2.26823946e+00,\n",
       "        -2.47263594e+00,  -2.66707600e+00,  -2.85077669e+00,\n",
       "        -3.02299830e+00,  -3.18304736e+00,  -3.33027942e+00,\n",
       "        -3.46410162e+00,  -3.58397510e+00,  -3.68941718e+00,\n",
       "        -3.78000327e+00,  -3.85536863e+00,  -3.91520978e+00,\n",
       "        -3.95928577e+00,  -3.98741910e+00,  -3.99949651e+00,\n",
       "        -3.99546936e+00,  -3.97535386e+00,  -3.93923101e+00,\n",
       "        -3.88724627e+00,  -3.81960897e+00,  -3.73659144e+00,\n",
       "        -3.63852798e+00,  -3.52581345e+00,  -3.39890172e+00,\n",
       "        -3.25830381e+00,  -3.10458586e+00,  -2.93836683e+00,\n",
       "        -2.76031605e+00,  -2.57115044e+00,  -2.37163172e+00,\n",
       "        -2.16256327e+00,  -1.94478694e+00,  -1.71917965e+00,\n",
       "        -1.48664982e+00,  -1.24813378e+00,  -1.00459195e+00,\n",
       "        -7.57004977e-01,  -5.06369814e-01,  -2.53695679e-01,\n",
       "        -9.79717439e-16]))], scale_x=LinearScale(allow_padding=False, max=1.0, min=0.0), scale_y=LinearScale(allow_padding=False, max=1.0, min=0.0))"
      ]
     },
     "metadata": {},
     "output_type": "display_data"
    }
   ],
   "source": [
    "ik_demo(newton, 4)"
   ]
  },
  {
   "cell_type": "markdown",
   "metadata": {},
   "source": [
    "## Solution 2.4.2"
   ]
  },
  {
   "cell_type": "code",
   "execution_count": 13,
   "metadata": {},
   "outputs": [
    {
     "data": {
      "application/vnd.jupyter.widget-view+json": {
       "model_id": "2034fe6f02974d9995445760d0067fcc",
       "version_major": 2,
       "version_minor": 0
      },
      "text/html": [
       "<p>Failed to display Jupyter Widget of type <code>Figure</code>.</p>\n",
       "<p>\n",
       "  If you're reading this message in the Jupyter Notebook or JupyterLab Notebook, it may mean\n",
       "  that the widgets JavaScript is still loading. If this message persists, it\n",
       "  likely means that the widgets JavaScript library is either not installed or\n",
       "  not enabled. See the <a href=\"https://ipywidgets.readthedocs.io/en/stable/user_install.html\">Jupyter\n",
       "  Widgets Documentation</a> for setup instructions.\n",
       "</p>\n",
       "<p>\n",
       "  If you're reading this message in another frontend (for example, a static\n",
       "  rendering on GitHub or <a href=\"https://nbviewer.jupyter.org/\">NBViewer</a>),\n",
       "  it may mean that your frontend doesn't currently support widgets.\n",
       "</p>\n"
      ],
      "text/plain": [
       "Figure(fig_margin={'top': 60, 'bottom': 60, 'left': 60, 'right': 60}, layout=Layout(height='500px', min_width='125px', width='500px'), marks=[Scatter(colors=['DeepSkyBlue'], interactions={'hover': 'tooltip'}, scales={'x': LinearScale(max=31.0, min=-31.0), 'y': LinearScale(max=31.0, min=-31.0)}, scales_metadata={'x': {'orientation': 'horizontal', 'dimension': 'x'}, 'y': {'orientation': 'vertical', 'dimension': 'y'}, 'color': {'dimension': 'color'}, 'size': {'dimension': 'size'}, 'opacity': {'dimension': 'opacity'}, 'rotation': {'dimension': 'rotation'}, 'skew': {'dimension': 'skew'}}, tooltip_style={'opacity': 0.9}, x=array([  0.,   1.,   2.,   3.,   4.,   5.,   6.,   7.,   8.,   9.,  10.,\n",
       "        11.,  12.,  13.,  14.,  15.,  16.,  17.,  18.,  19.,  20.,  21.,\n",
       "        22.,  23.,  24.,  25.,  26.,  27.,  28.,  29.,  30.]), y=array([ 0.,  0.,  0.,  0.,  0.,  0.,  0.,  0.,  0.,  0.,  0.,  0.,  0.,\n",
       "        0.,  0.,  0.,  0.,  0.,  0.,  0.,  0.,  0.,  0.,  0.,  0.,  0.,\n",
       "        0.,  0.,  0.,  0.,  0.])), Scatter(colors=['red'], enable_move=True, interactions={'hover': 'tooltip'}, scales={'x': LinearScale(max=31.0, min=-31.0), 'y': LinearScale(max=31.0, min=-31.0)}, scales_metadata={'x': {'orientation': 'horizontal', 'dimension': 'x'}, 'y': {'orientation': 'vertical', 'dimension': 'y'}, 'color': {'dimension': 'color'}, 'size': {'dimension': 'size'}, 'opacity': {'dimension': 'opacity'}, 'rotation': {'dimension': 'rotation'}, 'skew': {'dimension': 'skew'}}, tooltip_style={'opacity': 0.9}, update_on_move=True, x=array([ 30.]), y=array([ 0.])), Lines(colors=['#1f77b4', '#ff7f0e', '#2ca02c', '#d62728', '#9467bd', '#8c564b', '#e377c2', '#7f7f7f', '#bcbd22', '#17becf'], interactions={'hover': 'tooltip'}, scales={'x': LinearScale(max=31.0, min=-31.0), 'y': LinearScale(max=31.0, min=-31.0)}, scales_metadata={'x': {'orientation': 'horizontal', 'dimension': 'x'}, 'y': {'orientation': 'vertical', 'dimension': 'y'}, 'color': {'dimension': 'color'}}, tooltip_style={'opacity': 0.9}, x=array([  0.,   1.,   2.,   3.,   4.,   5.,   6.,   7.,   8.,   9.,  10.,\n",
       "        11.,  12.,  13.,  14.,  15.,  16.,  17.,  18.,  19.,  20.,  21.,\n",
       "        22.,  23.,  24.,  25.,  26.,  27.,  28.,  29.,  30.]), y=array([ 0.,  0.,  0.,  0.,  0.,  0.,  0.,  0.,  0.,  0.,  0.,  0.,  0.,\n",
       "        0.,  0.,  0.,  0.,  0.,  0.,  0.,  0.,  0.,  0.,  0.,  0.,  0.,\n",
       "        0.,  0.,  0.,  0.,  0.])), Lines(colors=['gray'], interactions={'hover': 'tooltip'}, scales={'x': LinearScale(max=31.0, min=-31.0), 'y': LinearScale(max=31.0, min=-31.0)}, scales_metadata={'x': {'orientation': 'horizontal', 'dimension': 'x'}, 'y': {'orientation': 'vertical', 'dimension': 'y'}, 'color': {'dimension': 'color'}}, tooltip_style={'opacity': 0.9}, x=array([ 30.        ,  29.93960029,  29.75864438,  29.45786092,\n",
       "        29.03846104,  28.50213353,  27.85103799,  27.08779615,\n",
       "        26.21548131,  25.23760598,  24.15810773,  22.98133329,\n",
       "        21.71202114,  20.35528235,  18.91658001,  17.40170729,\n",
       "        15.81676403,  14.16813224,  12.46245039,  10.70658665,\n",
       "         8.90761126,   7.07276807,   5.20944533,   3.325146  ,\n",
       "         1.42745747,  -0.47597892,  -2.37749871,  -4.26944515,\n",
       "        -6.14420004,  -7.99421441,  -9.8120389 , -11.59035377,\n",
       "       -13.32199838, -15.        , -16.61760192, -18.16829061,\n",
       "       -19.64582202, -21.04424663, -22.35793349, -23.58159284,\n",
       "       -24.71029744, -25.7395024 , -26.66506346, -27.48325372,\n",
       "       -28.19077862, -28.78478921, -29.26289361, -29.62316666,\n",
       "       -29.86415768, -29.98489627, -29.98489627, -29.86415768,\n",
       "       -29.62316666, -29.26289361, -28.78478921, -28.19077862,\n",
       "       -27.48325372, -26.66506346, -25.7395024 , -24.71029744,\n",
       "       -23.58159284, -22.35793349, -21.04424663, -19.64582202,\n",
       "       -18.16829061, -16.61760192, -15.        , -13.32199838,\n",
       "       -11.59035377,  -9.8120389 ,  -7.99421441,  -6.14420004,\n",
       "        -4.26944515,  -2.37749871,  -0.47597892,   1.42745747,\n",
       "         3.325146  ,   5.20944533,   7.07276807,   8.90761126,\n",
       "        10.70658665,  12.46245039,  14.16813224,  15.81676403,\n",
       "        17.40170729,  18.91658001,  20.35528235,  21.71202114,\n",
       "        22.98133329,  24.15810773,  25.23760598,  26.21548131,\n",
       "        27.08779615,  27.85103799,  28.50213353,  29.03846104,\n",
       "        29.45786092,  29.75864438,  29.93960029,  30.        ]), y=array([  0.00000000e+00,   1.90271759e+00,   3.79777361e+00,\n",
       "         5.67753733e+00,   7.53443962e+00,   9.36100337e+00,\n",
       "         1.11498737e+01,   1.28938474e+01,   1.45859021e+01,\n",
       "         1.62192245e+01,   1.77872379e+01,   1.92836283e+01,\n",
       "         2.07023703e+01,   2.20377513e+01,   2.32843939e+01,\n",
       "         2.44372786e+01,   2.54917629e+01,   2.64436009e+01,\n",
       "         2.72889599e+01,   2.80244358e+01,   2.86470672e+01,\n",
       "         2.91543470e+01,   2.95442326e+01,   2.98151539e+01,\n",
       "         2.99660202e+01,   2.99962238e+01,   2.99056433e+01,\n",
       "         2.96946433e+01,   2.93640734e+01,   2.89152648e+01,\n",
       "         2.83500246e+01,   2.76706288e+01,   2.68798132e+01,\n",
       "         2.59807621e+01,   2.49770956e+01,   2.38728552e+01,\n",
       "         2.26724872e+01,   2.13808251e+01,   2.00030700e+01,\n",
       "         1.85447696e+01,   1.70117959e+01,   1.54103217e+01,\n",
       "         1.37467957e+01,   1.20279161e+01,   1.02606043e+01,\n",
       "         8.45197671e+00,   6.60931598e+00,   4.74004188e+00,\n",
       "         2.85168130e+00,   9.51838005e-01,  -9.51838005e-01,\n",
       "        -2.85168130e+00,  -4.74004188e+00,  -6.60931598e+00,\n",
       "        -8.45197671e+00,  -1.02606043e+01,  -1.20279161e+01,\n",
       "        -1.37467957e+01,  -1.54103217e+01,  -1.70117959e+01,\n",
       "        -1.85447696e+01,  -2.00030700e+01,  -2.13808251e+01,\n",
       "        -2.26724872e+01,  -2.38728552e+01,  -2.49770956e+01,\n",
       "        -2.59807621e+01,  -2.68798132e+01,  -2.76706288e+01,\n",
       "        -2.83500246e+01,  -2.89152648e+01,  -2.93640734e+01,\n",
       "        -2.96946433e+01,  -2.99056433e+01,  -2.99962238e+01,\n",
       "        -2.99660202e+01,  -2.98151539e+01,  -2.95442326e+01,\n",
       "        -2.91543470e+01,  -2.86470672e+01,  -2.80244358e+01,\n",
       "        -2.72889599e+01,  -2.64436009e+01,  -2.54917629e+01,\n",
       "        -2.44372786e+01,  -2.32843939e+01,  -2.20377513e+01,\n",
       "        -2.07023703e+01,  -1.92836283e+01,  -1.77872379e+01,\n",
       "        -1.62192245e+01,  -1.45859021e+01,  -1.28938474e+01,\n",
       "        -1.11498737e+01,  -9.36100337e+00,  -7.53443962e+00,\n",
       "        -5.67753733e+00,  -3.79777361e+00,  -1.90271759e+00,\n",
       "        -7.34788079e-15]))], scale_x=LinearScale(allow_padding=False, max=1.0, min=0.0), scale_y=LinearScale(allow_padding=False, max=1.0, min=0.0))"
      ]
     },
     "metadata": {},
     "output_type": "display_data"
    }
   ],
   "source": [
    "ik_demo(newton, 30)"
   ]
  },
  {
   "cell_type": "markdown",
   "metadata": {},
   "source": [
    "Yes, the algorithm still works.\n",
    "No, I couldn not (except once when I could't recover)."
   ]
  },
  {
   "cell_type": "markdown",
   "metadata": {},
   "source": [
    "# 3 Hacker points (10 points, optional)\n",
    "\n",
    "The inverse kinematics solution from Example 2 provides generally reasonable results by attempting to make the smallest change to the bone angles that will allow the chain to reach a particular point. However, in some cases there might be additional requirements we'd like the solution to satisfy. For instance, it might be unnatural for the character to bend a joint more than a few degrees. In this case, we could try to find a solution to an optimization problem that compromises between reaching the target position and bending joints by an overly large amount.\n",
    "\n",
    "$$\n",
    "\\DeclareMathOperator*{\\argmin}{argmin}\n",
    "\\argmin_{\\theta_1,\\ldots,\\theta_n} \\alpha\\cdot\\|\\vp(\\theta_1,\\ldots,\\theta_n)-\\vp_\\mathrm{target}\\|_2^2 + \\sum_{i=1}^n\\theta_i^2\n",
    "$$\n",
    "\n",
    "**TODO**: Optimize the above objective using the function ``opt.minimize`` and run your algorithm on a chain of length 5 (using the ``ik_demo`` function). Use $\\alpha=10$ in the above formula (i.e. reaching the target point is quite important)."
   ]
  },
  {
   "cell_type": "markdown",
   "metadata": {},
   "source": [
    "## Solution 3.1"
   ]
  },
  {
   "cell_type": "code",
   "execution_count": 14,
   "metadata": {},
   "outputs": [
    {
     "data": {
      "application/vnd.jupyter.widget-view+json": {
       "model_id": "d49b3a4e7233478088a3df3d98683b2e",
       "version_major": 2,
       "version_minor": 0
      },
      "text/html": [
       "<p>Failed to display Jupyter Widget of type <code>Figure</code>.</p>\n",
       "<p>\n",
       "  If you're reading this message in the Jupyter Notebook or JupyterLab Notebook, it may mean\n",
       "  that the widgets JavaScript is still loading. If this message persists, it\n",
       "  likely means that the widgets JavaScript library is either not installed or\n",
       "  not enabled. See the <a href=\"https://ipywidgets.readthedocs.io/en/stable/user_install.html\">Jupyter\n",
       "  Widgets Documentation</a> for setup instructions.\n",
       "</p>\n",
       "<p>\n",
       "  If you're reading this message in another frontend (for example, a static\n",
       "  rendering on GitHub or <a href=\"https://nbviewer.jupyter.org/\">NBViewer</a>),\n",
       "  it may mean that your frontend doesn't currently support widgets.\n",
       "</p>\n"
      ],
      "text/plain": [
       "Figure(fig_margin={'top': 60, 'bottom': 60, 'left': 60, 'right': 60}, layout=Layout(height='500px', min_width='125px', width='500px'), marks=[Scatter(colors=['DeepSkyBlue'], interactions={'hover': 'tooltip'}, scales={'x': LinearScale(max=6.0, min=-6.0), 'y': LinearScale(max=6.0, min=-6.0)}, scales_metadata={'x': {'orientation': 'horizontal', 'dimension': 'x'}, 'y': {'orientation': 'vertical', 'dimension': 'y'}, 'color': {'dimension': 'color'}, 'size': {'dimension': 'size'}, 'opacity': {'dimension': 'opacity'}, 'rotation': {'dimension': 'rotation'}, 'skew': {'dimension': 'skew'}}, tooltip_style={'opacity': 0.9}, x=array([ 0.,  1.,  2.,  3.,  4.,  5.]), y=array([ 0.,  0.,  0.,  0.,  0.,  0.])), Scatter(colors=['red'], enable_move=True, interactions={'hover': 'tooltip'}, scales={'x': LinearScale(max=6.0, min=-6.0), 'y': LinearScale(max=6.0, min=-6.0)}, scales_metadata={'x': {'orientation': 'horizontal', 'dimension': 'x'}, 'y': {'orientation': 'vertical', 'dimension': 'y'}, 'color': {'dimension': 'color'}, 'size': {'dimension': 'size'}, 'opacity': {'dimension': 'opacity'}, 'rotation': {'dimension': 'rotation'}, 'skew': {'dimension': 'skew'}}, tooltip_style={'opacity': 0.9}, update_on_move=True, x=array([ 5.]), y=array([ 0.])), Lines(colors=['#1f77b4', '#ff7f0e', '#2ca02c', '#d62728', '#9467bd', '#8c564b', '#e377c2', '#7f7f7f', '#bcbd22', '#17becf'], interactions={'hover': 'tooltip'}, scales={'x': LinearScale(max=6.0, min=-6.0), 'y': LinearScale(max=6.0, min=-6.0)}, scales_metadata={'x': {'orientation': 'horizontal', 'dimension': 'x'}, 'y': {'orientation': 'vertical', 'dimension': 'y'}, 'color': {'dimension': 'color'}}, tooltip_style={'opacity': 0.9}, x=array([ 0.,  1.,  2.,  3.,  4.,  5.]), y=array([ 0.,  0.,  0.,  0.,  0.,  0.])), Lines(colors=['gray'], interactions={'hover': 'tooltip'}, scales={'x': LinearScale(max=6.0, min=-6.0), 'y': LinearScale(max=6.0, min=-6.0)}, scales_metadata={'x': {'orientation': 'horizontal', 'dimension': 'x'}, 'y': {'orientation': 'vertical', 'dimension': 'y'}, 'color': {'dimension': 'color'}}, tooltip_style={'opacity': 0.9}, x=array([ 5.        ,  4.98993338,  4.95977406,  4.90964349,  4.83974351,\n",
       "        4.75035559,  4.64183967,  4.51463269,  4.36924689,  4.20626766,\n",
       "        4.02635129,  3.83022222,  3.61867019,  3.39254706,  3.15276334,\n",
       "        2.90028455,  2.63612734,  2.36135537,  2.07707507,  1.78443111,\n",
       "        1.48460188,  1.17879468,  0.86824089,  0.554191  ,  0.23790958,\n",
       "       -0.07932982, -0.39624978, -0.71157419, -1.02403334, -1.33236907,\n",
       "       -1.63533982, -1.93172563, -2.22033306, -2.5       , -2.76960032,\n",
       "       -3.02804844, -3.27430367, -3.50737444, -3.72632225, -3.93026547,\n",
       "       -4.11838291, -4.28991707, -4.44417724, -4.58054229, -4.6984631 ,\n",
       "       -4.79746487, -4.87714893, -4.93719444, -4.97735961, -4.99748271,\n",
       "       -4.99748271, -4.97735961, -4.93719444, -4.87714893, -4.79746487,\n",
       "       -4.6984631 , -4.58054229, -4.44417724, -4.28991707, -4.11838291,\n",
       "       -3.93026547, -3.72632225, -3.50737444, -3.27430367, -3.02804844,\n",
       "       -2.76960032, -2.5       , -2.22033306, -1.93172563, -1.63533982,\n",
       "       -1.33236907, -1.02403334, -0.71157419, -0.39624978, -0.07932982,\n",
       "        0.23790958,  0.554191  ,  0.86824089,  1.17879468,  1.48460188,\n",
       "        1.78443111,  2.07707507,  2.36135537,  2.63612734,  2.90028455,\n",
       "        3.15276334,  3.39254706,  3.61867019,  3.83022222,  4.02635129,\n",
       "        4.20626766,  4.36924689,  4.51463269,  4.64183967,  4.75035559,\n",
       "        4.83974351,  4.90964349,  4.95977406,  4.98993338,  5.        ]), y=array([  0.00000000e+00,   3.17119598e-01,   6.32962268e-01,\n",
       "         9.46256222e-01,   1.25573994e+00,   1.56016723e+00,\n",
       "         1.85831228e+00,   2.14897456e+00,   2.43098368e+00,\n",
       "         2.70320409e+00,   2.96453965e+00,   3.21393805e+00,\n",
       "         3.45039506e+00,   3.67295854e+00,   3.88073232e+00,\n",
       "         4.07287976e+00,   4.24862715e+00,   4.40726682e+00,\n",
       "         4.54815998e+00,   4.67073930e+00,   4.77451121e+00,\n",
       "         4.85905784e+00,   4.92403877e+00,   4.96919232e+00,\n",
       "         4.99433670e+00,   4.99937064e+00,   4.98427388e+00,\n",
       "         4.94910721e+00,   4.89401223e+00,   4.81921079e+00,\n",
       "         4.72500409e+00,   4.61177147e+00,   4.47996887e+00,\n",
       "         4.33012702e+00,   4.16284927e+00,   3.97880920e+00,\n",
       "         3.77874787e+00,   3.56347086e+00,   3.33384500e+00,\n",
       "         3.09079493e+00,   2.83529932e+00,   2.56838696e+00,\n",
       "         2.29113261e+00,   2.00465268e+00,   1.71010072e+00,\n",
       "         1.40866278e+00,   1.10155266e+00,   7.90006980e-01,\n",
       "         4.75280217e-01,   1.58639667e-01,  -1.58639667e-01,\n",
       "        -4.75280217e-01,  -7.90006980e-01,  -1.10155266e+00,\n",
       "        -1.40866278e+00,  -1.71010072e+00,  -2.00465268e+00,\n",
       "        -2.29113261e+00,  -2.56838696e+00,  -2.83529932e+00,\n",
       "        -3.09079493e+00,  -3.33384500e+00,  -3.56347086e+00,\n",
       "        -3.77874787e+00,  -3.97880920e+00,  -4.16284927e+00,\n",
       "        -4.33012702e+00,  -4.47996887e+00,  -4.61177147e+00,\n",
       "        -4.72500409e+00,  -4.81921079e+00,  -4.89401223e+00,\n",
       "        -4.94910721e+00,  -4.98427388e+00,  -4.99937064e+00,\n",
       "        -4.99433670e+00,  -4.96919232e+00,  -4.92403877e+00,\n",
       "        -4.85905784e+00,  -4.77451121e+00,  -4.67073930e+00,\n",
       "        -4.54815998e+00,  -4.40726682e+00,  -4.24862715e+00,\n",
       "        -4.07287976e+00,  -3.88073232e+00,  -3.67295854e+00,\n",
       "        -3.45039506e+00,  -3.21393805e+00,  -2.96453965e+00,\n",
       "        -2.70320409e+00,  -2.43098368e+00,  -2.14897456e+00,\n",
       "        -1.85831228e+00,  -1.56016723e+00,  -1.25573994e+00,\n",
       "        -9.46256222e-01,  -6.32962268e-01,  -3.17119598e-01,\n",
       "        -1.22464680e-15]))], scale_x=LinearScale(allow_padding=False, max=1.0, min=0.0), scale_y=LinearScale(allow_padding=False, max=1.0, min=0.0))"
      ]
     },
     "metadata": {},
     "output_type": "display_data"
    }
   ],
   "source": [
    "def solverOpti1(th, target):\n",
    "    alpha = 10\n",
    "    def f_obj(theta):\n",
    "        return alpha*la.norm(chain(theta) - target)**2 + np.math.fsum(np.square(theta))\n",
    "    res = opt.minimize(f_obj, th)\n",
    "    return res.x\n",
    "\n",
    "ik_demo(solverOpti1, 5)"
   ]
  },
  {
   "cell_type": "markdown",
   "metadata": {},
   "source": [
    "**TODO**: Now try to optimize the following function instead, using the same value of $\\alpha$. What behavior do you observe? Note that the optimization seems to run much slower than in the previous case. Why do you think that is?\n",
    "\n",
    "$$\n",
    "\\DeclareMathOperator*{\\argmin}{argmin}\n",
    "\\argmin_{\\theta_1,\\ldots,\\theta_n} \\alpha\\cdot\\|\\vp(\\theta_1,\\ldots,\\theta_n)-\\vp_\\mathrm{target}\\|_2^2 + \\sum_{i=1}^n\\left|\\theta_i\\right|\n",
    "$$\n"
   ]
  },
  {
   "cell_type": "markdown",
   "metadata": {},
   "source": [
    "## Solution 3.2"
   ]
  },
  {
   "cell_type": "code",
   "execution_count": 15,
   "metadata": {},
   "outputs": [
    {
     "data": {
      "application/vnd.jupyter.widget-view+json": {
       "model_id": "22085f5a8c684471921220d491068df9",
       "version_major": 2,
       "version_minor": 0
      },
      "text/html": [
       "<p>Failed to display Jupyter Widget of type <code>Figure</code>.</p>\n",
       "<p>\n",
       "  If you're reading this message in the Jupyter Notebook or JupyterLab Notebook, it may mean\n",
       "  that the widgets JavaScript is still loading. If this message persists, it\n",
       "  likely means that the widgets JavaScript library is either not installed or\n",
       "  not enabled. See the <a href=\"https://ipywidgets.readthedocs.io/en/stable/user_install.html\">Jupyter\n",
       "  Widgets Documentation</a> for setup instructions.\n",
       "</p>\n",
       "<p>\n",
       "  If you're reading this message in another frontend (for example, a static\n",
       "  rendering on GitHub or <a href=\"https://nbviewer.jupyter.org/\">NBViewer</a>),\n",
       "  it may mean that your frontend doesn't currently support widgets.\n",
       "</p>\n"
      ],
      "text/plain": [
       "Figure(fig_margin={'top': 60, 'bottom': 60, 'left': 60, 'right': 60}, layout=Layout(height='500px', min_width='125px', width='500px'), marks=[Scatter(colors=['DeepSkyBlue'], interactions={'hover': 'tooltip'}, scales={'x': LinearScale(max=6.0, min=-6.0), 'y': LinearScale(max=6.0, min=-6.0)}, scales_metadata={'x': {'orientation': 'horizontal', 'dimension': 'x'}, 'y': {'orientation': 'vertical', 'dimension': 'y'}, 'color': {'dimension': 'color'}, 'size': {'dimension': 'size'}, 'opacity': {'dimension': 'opacity'}, 'rotation': {'dimension': 'rotation'}, 'skew': {'dimension': 'skew'}}, tooltip_style={'opacity': 0.9}, x=array([ 0.,  1.,  2.,  3.,  4.,  5.]), y=array([ 0.,  0.,  0.,  0.,  0.,  0.])), Scatter(colors=['red'], enable_move=True, interactions={'hover': 'tooltip'}, scales={'x': LinearScale(max=6.0, min=-6.0), 'y': LinearScale(max=6.0, min=-6.0)}, scales_metadata={'x': {'orientation': 'horizontal', 'dimension': 'x'}, 'y': {'orientation': 'vertical', 'dimension': 'y'}, 'color': {'dimension': 'color'}, 'size': {'dimension': 'size'}, 'opacity': {'dimension': 'opacity'}, 'rotation': {'dimension': 'rotation'}, 'skew': {'dimension': 'skew'}}, tooltip_style={'opacity': 0.9}, update_on_move=True, x=array([ 5.]), y=array([ 0.])), Lines(colors=['#1f77b4', '#ff7f0e', '#2ca02c', '#d62728', '#9467bd', '#8c564b', '#e377c2', '#7f7f7f', '#bcbd22', '#17becf'], interactions={'hover': 'tooltip'}, scales={'x': LinearScale(max=6.0, min=-6.0), 'y': LinearScale(max=6.0, min=-6.0)}, scales_metadata={'x': {'orientation': 'horizontal', 'dimension': 'x'}, 'y': {'orientation': 'vertical', 'dimension': 'y'}, 'color': {'dimension': 'color'}}, tooltip_style={'opacity': 0.9}, x=array([ 0.,  1.,  2.,  3.,  4.,  5.]), y=array([ 0.,  0.,  0.,  0.,  0.,  0.])), Lines(colors=['gray'], interactions={'hover': 'tooltip'}, scales={'x': LinearScale(max=6.0, min=-6.0), 'y': LinearScale(max=6.0, min=-6.0)}, scales_metadata={'x': {'orientation': 'horizontal', 'dimension': 'x'}, 'y': {'orientation': 'vertical', 'dimension': 'y'}, 'color': {'dimension': 'color'}}, tooltip_style={'opacity': 0.9}, x=array([ 5.        ,  4.98993338,  4.95977406,  4.90964349,  4.83974351,\n",
       "        4.75035559,  4.64183967,  4.51463269,  4.36924689,  4.20626766,\n",
       "        4.02635129,  3.83022222,  3.61867019,  3.39254706,  3.15276334,\n",
       "        2.90028455,  2.63612734,  2.36135537,  2.07707507,  1.78443111,\n",
       "        1.48460188,  1.17879468,  0.86824089,  0.554191  ,  0.23790958,\n",
       "       -0.07932982, -0.39624978, -0.71157419, -1.02403334, -1.33236907,\n",
       "       -1.63533982, -1.93172563, -2.22033306, -2.5       , -2.76960032,\n",
       "       -3.02804844, -3.27430367, -3.50737444, -3.72632225, -3.93026547,\n",
       "       -4.11838291, -4.28991707, -4.44417724, -4.58054229, -4.6984631 ,\n",
       "       -4.79746487, -4.87714893, -4.93719444, -4.97735961, -4.99748271,\n",
       "       -4.99748271, -4.97735961, -4.93719444, -4.87714893, -4.79746487,\n",
       "       -4.6984631 , -4.58054229, -4.44417724, -4.28991707, -4.11838291,\n",
       "       -3.93026547, -3.72632225, -3.50737444, -3.27430367, -3.02804844,\n",
       "       -2.76960032, -2.5       , -2.22033306, -1.93172563, -1.63533982,\n",
       "       -1.33236907, -1.02403334, -0.71157419, -0.39624978, -0.07932982,\n",
       "        0.23790958,  0.554191  ,  0.86824089,  1.17879468,  1.48460188,\n",
       "        1.78443111,  2.07707507,  2.36135537,  2.63612734,  2.90028455,\n",
       "        3.15276334,  3.39254706,  3.61867019,  3.83022222,  4.02635129,\n",
       "        4.20626766,  4.36924689,  4.51463269,  4.64183967,  4.75035559,\n",
       "        4.83974351,  4.90964349,  4.95977406,  4.98993338,  5.        ]), y=array([  0.00000000e+00,   3.17119598e-01,   6.32962268e-01,\n",
       "         9.46256222e-01,   1.25573994e+00,   1.56016723e+00,\n",
       "         1.85831228e+00,   2.14897456e+00,   2.43098368e+00,\n",
       "         2.70320409e+00,   2.96453965e+00,   3.21393805e+00,\n",
       "         3.45039506e+00,   3.67295854e+00,   3.88073232e+00,\n",
       "         4.07287976e+00,   4.24862715e+00,   4.40726682e+00,\n",
       "         4.54815998e+00,   4.67073930e+00,   4.77451121e+00,\n",
       "         4.85905784e+00,   4.92403877e+00,   4.96919232e+00,\n",
       "         4.99433670e+00,   4.99937064e+00,   4.98427388e+00,\n",
       "         4.94910721e+00,   4.89401223e+00,   4.81921079e+00,\n",
       "         4.72500409e+00,   4.61177147e+00,   4.47996887e+00,\n",
       "         4.33012702e+00,   4.16284927e+00,   3.97880920e+00,\n",
       "         3.77874787e+00,   3.56347086e+00,   3.33384500e+00,\n",
       "         3.09079493e+00,   2.83529932e+00,   2.56838696e+00,\n",
       "         2.29113261e+00,   2.00465268e+00,   1.71010072e+00,\n",
       "         1.40866278e+00,   1.10155266e+00,   7.90006980e-01,\n",
       "         4.75280217e-01,   1.58639667e-01,  -1.58639667e-01,\n",
       "        -4.75280217e-01,  -7.90006980e-01,  -1.10155266e+00,\n",
       "        -1.40866278e+00,  -1.71010072e+00,  -2.00465268e+00,\n",
       "        -2.29113261e+00,  -2.56838696e+00,  -2.83529932e+00,\n",
       "        -3.09079493e+00,  -3.33384500e+00,  -3.56347086e+00,\n",
       "        -3.77874787e+00,  -3.97880920e+00,  -4.16284927e+00,\n",
       "        -4.33012702e+00,  -4.47996887e+00,  -4.61177147e+00,\n",
       "        -4.72500409e+00,  -4.81921079e+00,  -4.89401223e+00,\n",
       "        -4.94910721e+00,  -4.98427388e+00,  -4.99937064e+00,\n",
       "        -4.99433670e+00,  -4.96919232e+00,  -4.92403877e+00,\n",
       "        -4.85905784e+00,  -4.77451121e+00,  -4.67073930e+00,\n",
       "        -4.54815998e+00,  -4.40726682e+00,  -4.24862715e+00,\n",
       "        -4.07287976e+00,  -3.88073232e+00,  -3.67295854e+00,\n",
       "        -3.45039506e+00,  -3.21393805e+00,  -2.96453965e+00,\n",
       "        -2.70320409e+00,  -2.43098368e+00,  -2.14897456e+00,\n",
       "        -1.85831228e+00,  -1.56016723e+00,  -1.25573994e+00,\n",
       "        -9.46256222e-01,  -6.32962268e-01,  -3.17119598e-01,\n",
       "        -1.22464680e-15]))], scale_x=LinearScale(allow_padding=False, max=1.0, min=0.0), scale_y=LinearScale(allow_padding=False, max=1.0, min=0.0))"
      ]
     },
     "metadata": {},
     "output_type": "display_data"
    }
   ],
   "source": [
    "def solverOpti2(th, target):\n",
    "    alpha = 10\n",
    "    def f_obj(theta):\n",
    "        return alpha*(la.norm(chain(theta) - target))**2 + np.math.fsum(np.absolute(theta))\n",
    "    res = opt.minimize(f_obj, th)\n",
    "    return res.x\n",
    "\n",
    "ik_demo(solverOpti2, 5)"
   ]
  },
  {
   "cell_type": "markdown",
   "metadata": {
    "collapsed": true
   },
   "source": [
    "The second optimization really runs more slowly.\n",
    "I think that the second optimization is \"stricter\" than the first one.\n",
    "In fact, the term \"sum of the absolute values of the angles\" is more restrictive than the term \"sum of the squares of the angles\" (if the values are close to zero).\n",
    "Thus, in the second case, there are as many angles as possible at zero or almost zero."
   ]
  }
 ],
 "metadata": {
  "anaconda-cloud": {},
  "kernelspec": {
   "display_name": "Python 3",
   "language": "python",
   "name": "python3"
  },
  "language_info": {
   "codemirror_mode": {
    "name": "ipython",
    "version": 3
   },
   "file_extension": ".py",
   "mimetype": "text/x-python",
   "name": "python",
   "nbconvert_exporter": "python",
   "pygments_lexer": "ipython3",
   "version": "3.6.1"
  }
 },
 "nbformat": 4,
 "nbformat_minor": 1
}
